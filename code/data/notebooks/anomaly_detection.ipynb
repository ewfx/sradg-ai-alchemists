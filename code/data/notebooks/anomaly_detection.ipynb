# Import necessary libraries
import pandas as pd
import numpy as np
import os
import matplotlib.pyplot as plt
import seaborn as sns
from sklearn.ensemble import IsolationForest
from sklearn.preprocessing import StandardScaler
 
# Load Processed Data
def load_processed_data(filename):
    """
    Load processed data from 'data/processed/' directory.
    """
    file_path = os.path.join("data", "processed", filename)
    if os.path.exists(file_path):
        return pd.read_csv(file_path)
    else:
        raise FileNotFoundError(f"Processed data file {filename} not found in 'data/processed/' folder.")
 
# Load the processed data
df = load_processed_data("cleaned_transactions.csv")
df.head()
 
# Select Features for Anomaly Detection
features = ["expected_value", "actual_value", "amount_difference", "hour", "day_of_week"]
X = df[features]
 
# Standardize Features
scaler = StandardScaler()
X_scaled = scaler.fit_transform(X)
 
# Train Isolation Forest Model
isolation_forest = IsolationForest(n_estimators=100, contamination=0.05, random_state=42)
df["anomaly_score"] = isolation_forest.fit_predict(X_scaled)
 
# Mark anomalies (anomaly_score = -1 means anomaly)
df["is_anomaly"] = df["anomaly_score"].apply(lambda x: 1 if x == -1 else 0)
 
# Visualize Anomalies
plt.figure(figsize=(10, 6))
sns.scatterplot(x=df["expected_value"], y=df["actual_value"], hue=df["is_anomaly"], palette={0: "blue", 1: "red"})
plt.xlabel("Expected Value")
plt.ylabel("Actual Value")
plt.title("Anomaly Detection in Bank Transactions")
plt.legend(["Normal", "Anomaly"])
plt.show()
 
# Save the results
output_file = os.path.join("data", "processed", "anomaly_results.csv")
df.to_csv(output_file, index=False)
print(f"Anomaly detection results saved to {output_file}")
 
# Display detected anomalies
anomalies = df[df["is_anomaly"] == 1]
print(f"Total Anomalies Detected: {len(anomalies)}")
anomalies.head()
